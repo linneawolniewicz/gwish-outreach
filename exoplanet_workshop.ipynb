{
 "cells": [
  {
   "cell_type": "markdown",
   "metadata": {},
   "source": [
    "# Workshop to discover an Exoplanet orbiting Kepler-6!\n",
    "\n",
    "### To run this coding notebook, you only need to click '**Runtime**' and '**Run all**'.\n",
    "\n",
    "We will examine in this workshop the brightness from Kepler-6 (known by ID KIC 10874614).\n",
    "Some facts about Kepler 6:\n",
    "*   located in the constellation Cygnus\n",
    "*   almost 2,000 light-years away\n",
    "*   slightly, larger, more metal-rich, slightly cooler, and more massive than our Sun\n",
    "\n",
    "Astronomers discover planets orbiting stars by examining their brightness ove time. We will be looking for periodic 'dips' in their brightness, which are actually *planets* orbiting it! Because these planets are outside of our own solar system, we call them *exoplanets*.\n",
    "\n",
    "### Today, we are all **exoplanet hunters** and will be discovering the explanet Kepler-6b!\n",
    "\n",
    "Some facts about Kepler-6b:\n",
    "*   Kepler-6b is 2/3 the size of our planet Jupiter\n",
    "*   Kepler-6b orbits at 1% of the distance that Jupiter does\n",
    "*   Kepler-6b orbits even closer to the Sun than Mercury, the closest planet to the Sun in our solar system!\n",
    "*   Kepler-6b was the *third exoplanet* discovered by the Kepler mission!\n",
    "*   Kepler-6b was discovered by the Kepler Space Telescope in 2009\n",
    "\n",
    "The code is inspired from this [tutorial](https://docs.lightkurve.org/tutorials/3-science-examples/exoplanets-recover-a-known-planet.html).\n",
    "\n",
    "To read up on Kepler-6 and it's planet Kepler-6b, see this [link](https://en.wikipedia.org/wiki/Kepler-6)."
   ]
  },
  {
   "cell_type": "markdown",
   "metadata": {},
   "source": [
    "## This code block runs the code we need to examine the star and its brightness\n",
    "\n",
    "It loads python packages we need to run the code and loads the data for Kepler-6.\n",
    "\n",
    "#### **Click the arrow button below to run this code!**"
   ]
  },
  {
   "cell_type": "code",
   "execution_count": null,
   "metadata": {},
   "outputs": [],
   "source": [
    "# Install lightkurve and bokeh\n",
    "! pip install lightkurve\n",
    "! pip install bokeh\n",
    "\n",
    "# Import necessary packages\n",
    "import pandas as pandas\n",
    "import numpy as numpy\n",
    "import matplotlib.pyplot as plot\n",
    "import lightkurve as lightkurve\n",
    "import warnings\n",
    "\n",
    "# Make plots look better\n",
    "%matplotlib inline\n",
    "\n",
    "# Remove warnings from code\n",
    "warnings.filterwarnings('ignore')"
   ]
  },
  {
   "cell_type": "code",
   "execution_count": null,
   "metadata": {},
   "outputs": [],
   "source": [
    "# Load target pixel file\n",
    "star_image = lightkurve.search_targetpixelfile(\"Kepler-6\", author=\"Kepler\", quarter=3, cadence=\"long\").download()\n",
    "\n",
    "# Load the lightcurve from the target pixel file\n",
    "raw_lightcurve = star_image.to_lightcurve(aperture_mask=star_image.pipeline_mask)"
   ]
  },
  {
   "cell_type": "markdown",
   "metadata": {},
   "source": [
    "## The following code will show us a picture of the star and its light over time\n",
    "\n",
    "We'll start by looking at an image of Kepler-6.\n",
    "This picture is pixelated because it is very zoomed in.\n",
    "\n",
    "Try changing the **colormap** variable to something else, then **click the arrow** to see what changes!\n",
    "\n",
    "You can also adjust the frames values to see the star at different times.\n",
    "\n",
    "### Do you see any changes in the brightness of the star over time?"
   ]
  },
  {
   "cell_type": "code",
   "execution_count": 1,
   "metadata": {},
   "outputs": [
    {
     "ename": "NameError",
     "evalue": "name 'plot' is not defined",
     "output_type": "error",
     "traceback": [
      "\u001b[0;31m---------------------------------------------------------------------------\u001b[0m",
      "\u001b[0;31mNameError\u001b[0m                                 Traceback (most recent call last)",
      "Cell \u001b[0;32mIn[1], line 5\u001b[0m\n\u001b[1;32m      2\u001b[0m frames \u001b[38;5;241m=\u001b[39m [\u001b[38;5;241m0\u001b[39m, \u001b[38;5;241m250\u001b[39m, \u001b[38;5;241m750\u001b[39m, \u001b[38;5;241m1000\u001b[39m]  \u001b[38;5;66;03m# Try changing these numbers to see how the star changes over time\u001b[39;00m\n\u001b[1;32m      4\u001b[0m \u001b[38;5;66;03m# Plot the image of Kepler-6 for 4 frames\u001b[39;00m\n\u001b[0;32m----> 5\u001b[0m fig, axs \u001b[38;5;241m=\u001b[39m \u001b[43mplot\u001b[49m\u001b[38;5;241m.\u001b[39msubplots(\u001b[38;5;241m2\u001b[39m, \u001b[38;5;241m2\u001b[39m, figsize\u001b[38;5;241m=\u001b[39m(\u001b[38;5;241m10\u001b[39m, \u001b[38;5;241m8\u001b[39m))\n\u001b[1;32m      7\u001b[0m \u001b[38;5;28;01mfor\u001b[39;00m i, frame \u001b[38;5;129;01min\u001b[39;00m \u001b[38;5;28menumerate\u001b[39m(frames):\n\u001b[1;32m      8\u001b[0m     row \u001b[38;5;241m=\u001b[39m i \u001b[38;5;241m/\u001b[39m\u001b[38;5;241m/\u001b[39m \u001b[38;5;241m2\u001b[39m\n",
      "\u001b[0;31mNameError\u001b[0m: name 'plot' is not defined"
     ]
    }
   ],
   "source": [
    "colormap = 'gray' # Try changing this to 'viridis', 'rainbow', or 'inferno'\n",
    "frames = [0, 250, 750, 1000]  # Try changing these numbers to see how the star changes over time\n",
    "\n",
    "# Plot the image of Kepler-6 for 4 frames\n",
    "fig, axs = plot.subplots(2, 2, figsize=(10, 8))\n",
    "\n",
    "for i, frame in enumerate(frames):\n",
    "    row = i // 2\n",
    "    col = i % 2\n",
    "    ax = axs[row, col]\n",
    "\n",
    "    star_image.plot(frame=frame, scale='log', cmap=colormap, show_colorbar=False, ax=ax)\n",
    "    ax.set_title(f\"Brightness of Star Kepler-6 (Frame {frame})\")\n",
    "\n",
    "plot.tight_layout()\n",
    "plot.show()"
   ]
  },
  {
   "cell_type": "markdown",
   "metadata": {},
   "source": [
    "Now that we've seen the star, we are going to look at its brightness over time.\n",
    "\n",
    "This is tracked by the Kepler telescope taking a picture of the star, as above, multiple times each day over a long period of time (like a year).\n",
    "\n",
    "Brightness over time of a star is called it's **lightcurve**.\n",
    "\n",
    "### What do you notice about the lightcurve of Kepler-6?"
   ]
  },
  {
   "cell_type": "code",
   "execution_count": null,
   "metadata": {},
   "outputs": [],
   "source": [
    "# Remove long-term variabilities that are muddying the lightcurve\n",
    "lightcurve, trendline = raw_lightcurve.flatten(window_length=600, return_trend=True)\n",
    "\n",
    "# Plot the lightcurve of Kepler-6\n",
    "lightcurve_plot = lightcurve.plot()\n",
    "lightcurve_plot.set_xlim(260, 300)\n",
    "lightcurve_plot.set_ylabel(\"Brightness\")\n",
    "lightcurve_plot.set_xlabel(\"Time in days\");"
   ]
  },
  {
   "cell_type": "markdown",
   "metadata": {},
   "source": [
    "In groups, try to guess what the periodic dip corresponds to, and what the 'period' of the dip is (or how often the dip occurs, in days)\n",
    "\n",
    "### **Tell a volunteer your guess on the period and what the dips are before proceeding!!**\n",
    "\n",
    "Ok- let's check! We're going to use math (called a Fourier transform) to find periodic signals in the data (any consistent dips). The most dominant periodic signals will be the peaks in the graph below- does the largest peak correspond to the period of dips you guessed?"
   ]
  },
  {
   "cell_type": "code",
   "execution_count": null,
   "metadata": {},
   "outputs": [],
   "source": [
    "# Create a BLSPeriodogram\n",
    "periodogram = lightcurve.to_periodogram(method=\"bls\", period=numpy.linspace(1, 20, 10000))\n",
    "best_fit_period = periodogram.period_at_max_power\n",
    "print(best_fit_period)\n",
    "\n",
    "# Plot the periodogram (power spectrum of frequencies in the brightness plot above)\n",
    "periodogram.plot();"
   ]
  },
  {
   "cell_type": "markdown",
   "metadata": {},
   "source": [
    "The number above tells us the strongest periodic signal has a period of **3.234 days!** Is that what you guessed was the period of the planet?\n",
    "\n",
    "Ok- but how can we tell this is truly an exoplanet?\n",
    "\n",
    "\n",
    "*   We need to make sure the dips *always* happen ever 3.2 days\n",
    "*   We can do this by 'cutting' the lightcurve at each dip, and layering it over itself\n",
    "*   If the dips happen with the same distance between them, and they are of the same depth, it's a planet!\n",
    "*   After checking the period 3.2, check the other peaks in the plot above to try and find more planets!"
   ]
  },
  {
   "cell_type": "code",
   "execution_count": null,
   "metadata": {},
   "outputs": [],
   "source": [
    "# Plot the layered lightcurve of Kepler-6\n",
    "period = 3.2346 # Try changing this value to other periods, such as 4.9 or 6.4\n",
    "lightcurve.fold(period=period, epoch_time=period).errorbar();\n",
    "plot.ylabel(\"Brightness\");\n",
    "plot.xlabel(\"Folded time\");"
   ]
  },
  {
   "cell_type": "markdown",
   "metadata": {},
   "source": [
    "### We did it! That is the consistent dip of a planet, Kepler-6b, orbiting the star Kepler-6 every 3.234 days."
   ]
  },
  {
   "cell_type": "markdown",
   "metadata": {},
   "source": [
    "# If you wanted to find more exoplanets, here is the lightcurve of a very famous planetary system: the TRAPPIST-1 system\n",
    "The TRAPPIST-1 system is only 41 light years away from Earth, and possesses a star much smaller and colder than our Sun. However, it has *7 planets* orbiting it. Each of these planets are much closer to their star than Mercury is to the Sun. Also- all of these planets are *about the same size as Earth!*\n",
    "\n",
    "You can read more on this system [here](https://en.wikipedia.org/wiki/TRAPPIST-1)\n",
    "\n",
    "To explore these planets, run the code below and see how we discover the 7 planets using the 'periodigram' plot, which shows spikes at the period of each 'dip' we see in the lightcurve. This data is a lot messier, so planets may be less obvous than in the example above.\n",
    "\n",
    "Linnea: Maybe update this to [Kepler-69](https://docs.lightkurve.org/tutorials/3-science-examples/exoplanets-identifying-transiting-planet-signals.html)"
   ]
  },
  {
   "cell_type": "code",
   "execution_count": null,
   "metadata": {},
   "outputs": [],
   "source": [
    "# Load target pixel file\n",
    "star_image_trappist = lightkurve.search_targetpixelfile(\"TRAPPIST-1\", author=\"K2\").download()\n",
    "\n",
    "# Plot the image of TRAPPIST-1\n",
    "star_image_trappist.plot(frame=100, scale='log', cmap='gray', show_colorbar=False)\n",
    "plot.title(\"Brightness of Star TRAPPIST-1\");"
   ]
  },
  {
   "cell_type": "code",
   "execution_count": null,
   "metadata": {},
   "outputs": [],
   "source": [
    "# Load the lightcurve from the target pixel file\n",
    "raw_lightcurve_trappist = star_image_trappist.to_lightcurve(aperture_mask=star_image_trappist.pipeline_mask)\n",
    "\n",
    "# Remove long-term variabilities that are muddying the lightcurve\n",
    "lightcurve_trappist, trendline_trappist = raw_lightcurve_trappist.flatten(window_length=301, return_trend=True)\n",
    "\n",
    "# Plot the lightcurve of TRAPPIST-1\n",
    "lightcurve_plot_trappist = lightcurve_trappist.plot()\n",
    "lightcurve_plot_trappist.set_xlim(2930, 2950)\n",
    "lightcurve_plot_trappist.set_ylim(-0.1, 2)\n",
    "lightcurve_plot_trappist.set_ylabel(\"Brightness\")\n",
    "lightcurve_plot_trappist.set_xlabel(\"Time in days\");"
   ]
  },
  {
   "cell_type": "markdown",
   "metadata": {},
   "source": [
    "### The star has a less-clean lightcurve, since there are 7 planets orbiting it and blocking its light at once.\n",
    "\n",
    "Examine the plot generated by the code below to determine the orbital period of each planet in the system. Then, we can 'fold' the lightcurve over that period to detect whether the signal of the planet is consistent and a true planet!"
   ]
  },
  {
   "cell_type": "code",
   "execution_count": null,
   "metadata": {},
   "outputs": [],
   "source": [
    "# Create a Periodogram\n",
    "periodogram_trappist = lightcurve_trappist.to_periodogram(method=\"bls\", period=numpy.linspace(1, 20, 10000))\n",
    "\n",
    "# Print the periods and transit times for each high-power signal\n",
    "best_fit_period_trappist = periodogram_trappist.period_at_max_power\n",
    "print(f'Period with the highest power: {best_fit_period_trappist:.2f}')\n",
    "\n",
    "# Plot it- uncomment to see the periodiogram (power spectrum of frequencies in the brightness plot above)\n",
    "periodogram_trappist.plot();"
   ]
  },
  {
   "cell_type": "code",
   "execution_count": null,
   "metadata": {},
   "outputs": [],
   "source": [
    "# Plot the layered lightcurve of TRAPPIST-1\n",
    "period = best_fit_period_trappist # Try changing this to 3.92 to see the folded lightcurve of the second planet\n",
    "lightcurve_trappist.fold(period=period, epoch_time=periodogram_trappist.transit_time_at_max_power).errorbar();\n",
    "plot.ylim(-0.1, 1.5)\n",
    "plot.ylabel(\"Brightness\");\n",
    "plot.xlabel(\"Folded time\");"
   ]
  },
  {
   "cell_type": "markdown",
   "metadata": {},
   "source": [
    "It is less obvious, but there is definitely a dip in the lightcurve consistently at a period of almost 2 days. This would be TRAPPIST-1b, a rocky planet about the size of Earth. We can see the presence of other planets in the system are 'muddying' the signal of TRAPPIST-1b."
   ]
  }
 ],
 "metadata": {
  "kernelspec": {
   "display_name": "Python 3",
   "language": "python",
   "name": "python3"
  },
  "language_info": {
   "codemirror_mode": {
    "name": "ipython",
    "version": 3
   },
   "file_extension": ".py",
   "mimetype": "text/x-python",
   "name": "python",
   "nbconvert_exporter": "python",
   "pygments_lexer": "ipython3",
   "version": "3.9.6"
  }
 },
 "nbformat": 4,
 "nbformat_minor": 2
}
